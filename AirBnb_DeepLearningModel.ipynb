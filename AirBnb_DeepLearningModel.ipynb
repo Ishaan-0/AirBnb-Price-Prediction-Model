{
 "cells": [
  {
   "cell_type": "code",
   "execution_count": 1,
   "id": "52cc5bfa-88f2-4406-9e65-ef94189a672b",
   "metadata": {},
   "outputs": [],
   "source": [
    "import numpy as np\n",
    "import pandas as pd\n",
    "from sklearn.model_selection import train_test_split\n",
    "from sklearn.preprocessing import RobustScaler, LabelEncoder, OneHotEncoder\n",
    "from sklearn.metrics import r2_score, mean_absolute_error as mae, mean_squared_error as mse\n",
    "from sklearn.impute import SimpleImputer\n",
    "from tensorflow.keras.models import Sequential\n",
    "from tensorflow.keras.layers import Dense, Dropout\n",
    "from tensorflow.keras.optimizers import Adam"
   ]
  },
  {
   "cell_type": "code",
   "execution_count": 2,
   "id": "9d2ae3e3-3c67-44b1-a547-c85b962ef055",
   "metadata": {},
   "outputs": [],
   "source": [
    "df = pd.read_csv('AirBnb_Data.csv')"
   ]
  },
  {
   "cell_type": "code",
   "execution_count": 3,
   "id": "c6c1d410-2441-42e7-86e9-8347e64be4c2",
   "metadata": {},
   "outputs": [],
   "source": [
    "df.drop(['Unnamed: 0', 'id', 'thumbnail_url', 'latitude', 'longitude', 'name', 'description', 'first_review', 'last_review'], axis = 1, inplace = True)"
   ]
  },
  {
   "cell_type": "code",
   "execution_count": 4,
   "id": "45446035-1700-4861-8b6e-248c6d868dfc",
   "metadata": {},
   "outputs": [
    {
     "data": {
      "text/plain": [
       "0        NaN\n",
       "1        100\n",
       "2        100\n",
       "3        NaN\n",
       "4        100\n",
       "        ... \n",
       "74106    NaN\n",
       "74107    100\n",
       "74108    100\n",
       "74109    100\n",
       "74110    100\n",
       "Name: host_response_rate, Length: 74111, dtype: object"
      ]
     },
     "execution_count": 4,
     "metadata": {},
     "output_type": "execute_result"
    }
   ],
   "source": [
    "df['host_response_rate'] = df['host_response_rate'].str.rstrip('%')\n",
    "df['host_response_rate']"
   ]
  },
  {
   "cell_type": "code",
   "execution_count": 5,
   "id": "7f87a124-816e-4643-8cc0-75a191f3a273",
   "metadata": {},
   "outputs": [
    {
     "name": "stderr",
     "output_type": "stream",
     "text": [
      "/var/folders/pt/m45tcz0n18zgj8vt3kqn08qh0000gn/T/ipykernel_36476/4261230609.py:3: FutureWarning: A value is trying to be set on a copy of a DataFrame or Series through chained assignment using an inplace method.\n",
      "The behavior will change in pandas 3.0. This inplace method will never work because the intermediate object on which we are setting values always behaves as a copy.\n",
      "\n",
      "For example, when doing 'df[col].method(value, inplace=True)', try using 'df.method({col: value}, inplace=True)' or df[col] = df[col].method(value) instead, to perform the operation inplace on the original object.\n",
      "\n",
      "\n",
      "  df['review_scores_rating'].fillna(df['review_scores_rating'].mean(), inplace = True)\n",
      "/var/folders/pt/m45tcz0n18zgj8vt3kqn08qh0000gn/T/ipykernel_36476/4261230609.py:7: FutureWarning: A value is trying to be set on a copy of a DataFrame or Series through chained assignment using an inplace method.\n",
      "The behavior will change in pandas 3.0. This inplace method will never work because the intermediate object on which we are setting values always behaves as a copy.\n",
      "\n",
      "For example, when doing 'df[col].method(value, inplace=True)', try using 'df.method({col: value}, inplace=True)' or df[col] = df[col].method(value) instead, to perform the operation inplace on the original object.\n",
      "\n",
      "\n",
      "  df['host_response_rate'].fillna(df['host_response_rate'].median(), inplace = True)\n",
      "/var/folders/pt/m45tcz0n18zgj8vt3kqn08qh0000gn/T/ipykernel_36476/4261230609.py:9: FutureWarning: A value is trying to be set on a copy of a DataFrame or Series through chained assignment using an inplace method.\n",
      "The behavior will change in pandas 3.0. This inplace method will never work because the intermediate object on which we are setting values always behaves as a copy.\n",
      "\n",
      "For example, when doing 'df[col].method(value, inplace=True)', try using 'df.method({col: value}, inplace=True)' or df[col] = df[col].method(value) instead, to perform the operation inplace on the original object.\n",
      "\n",
      "\n",
      "  df['bathrooms'].fillna(df['bathrooms'].median(), inplace=True)\n",
      "/var/folders/pt/m45tcz0n18zgj8vt3kqn08qh0000gn/T/ipykernel_36476/4261230609.py:10: FutureWarning: A value is trying to be set on a copy of a DataFrame or Series through chained assignment using an inplace method.\n",
      "The behavior will change in pandas 3.0. This inplace method will never work because the intermediate object on which we are setting values always behaves as a copy.\n",
      "\n",
      "For example, when doing 'df[col].method(value, inplace=True)', try using 'df.method({col: value}, inplace=True)' or df[col] = df[col].method(value) instead, to perform the operation inplace on the original object.\n",
      "\n",
      "\n",
      "  df['bedrooms'].fillna(df['bedrooms'].median(), inplace=True)\n",
      "/var/folders/pt/m45tcz0n18zgj8vt3kqn08qh0000gn/T/ipykernel_36476/4261230609.py:11: FutureWarning: A value is trying to be set on a copy of a DataFrame or Series through chained assignment using an inplace method.\n",
      "The behavior will change in pandas 3.0. This inplace method will never work because the intermediate object on which we are setting values always behaves as a copy.\n",
      "\n",
      "For example, when doing 'df[col].method(value, inplace=True)', try using 'df.method({col: value}, inplace=True)' or df[col] = df[col].method(value) instead, to perform the operation inplace on the original object.\n",
      "\n",
      "\n",
      "  df['beds'].fillna(df['beds'].median(), inplace=True)\n",
      "/var/folders/pt/m45tcz0n18zgj8vt3kqn08qh0000gn/T/ipykernel_36476/4261230609.py:13: FutureWarning: A value is trying to be set on a copy of a DataFrame or Series through chained assignment using an inplace method.\n",
      "The behavior will change in pandas 3.0. This inplace method will never work because the intermediate object on which we are setting values always behaves as a copy.\n",
      "\n",
      "For example, when doing 'df[col].method(value, inplace=True)', try using 'df.method({col: value}, inplace=True)' or df[col] = df[col].method(value) instead, to perform the operation inplace on the original object.\n",
      "\n",
      "\n",
      "  df['host_has_profile_pic'].fillna('f', inplace = True)\n",
      "/var/folders/pt/m45tcz0n18zgj8vt3kqn08qh0000gn/T/ipykernel_36476/4261230609.py:14: FutureWarning: A value is trying to be set on a copy of a DataFrame or Series through chained assignment using an inplace method.\n",
      "The behavior will change in pandas 3.0. This inplace method will never work because the intermediate object on which we are setting values always behaves as a copy.\n",
      "\n",
      "For example, when doing 'df[col].method(value, inplace=True)', try using 'df.method({col: value}, inplace=True)' or df[col] = df[col].method(value) instead, to perform the operation inplace on the original object.\n",
      "\n",
      "\n",
      "  df['host_identity_verified'].fillna('f', inplace = True)\n"
     ]
    }
   ],
   "source": [
    "df.dropna(subset = ['zipcode', 'host_since'], inplace = True)\n",
    "\n",
    "df['review_scores_rating'].fillna(df['review_scores_rating'].mean(), inplace = True)\n",
    "df['review_scores_rating'] = pd.to_numeric(df['review_scores_rating'], errors='coerce')\n",
    "\n",
    "df['host_response_rate'] = pd.to_numeric(df['host_response_rate'], errors='coerce')\n",
    "df['host_response_rate'].fillna(df['host_response_rate'].median(), inplace = True)\n",
    "\n",
    "df['bathrooms'].fillna(df['bathrooms'].median(), inplace=True)\n",
    "df['bedrooms'].fillna(df['bedrooms'].median(), inplace=True)\n",
    "df['beds'].fillna(df['beds'].median(), inplace=True)\n",
    "\n",
    "df['host_has_profile_pic'].fillna('f', inplace = True)\n",
    "df['host_identity_verified'].fillna('f', inplace = True)"
   ]
  },
  {
   "cell_type": "code",
   "execution_count": 6,
   "id": "4d508abd-1121-49bf-84a2-ec1c0e5ac1d9",
   "metadata": {},
   "outputs": [
    {
     "data": {
      "text/plain": [
       "log_price                    0\n",
       "property_type                0\n",
       "room_type                    0\n",
       "amenities                    0\n",
       "accommodates                 0\n",
       "bathrooms                    0\n",
       "bed_type                     0\n",
       "cancellation_policy          0\n",
       "cleaning_fee                 0\n",
       "city                         0\n",
       "host_has_profile_pic         0\n",
       "host_identity_verified       0\n",
       "host_response_rate           0\n",
       "host_since                   0\n",
       "instant_bookable             0\n",
       "neighbourhood             6480\n",
       "number_of_reviews            0\n",
       "review_scores_rating         0\n",
       "zipcode                      0\n",
       "bedrooms                     0\n",
       "beds                         0\n",
       "dtype: int64"
      ]
     },
     "execution_count": 6,
     "metadata": {},
     "output_type": "execute_result"
    }
   ],
   "source": [
    "df.isnull().sum()"
   ]
  },
  {
   "cell_type": "code",
   "execution_count": 7,
   "id": "5009d6d1-d793-46b2-95ad-a0abf7d4268d",
   "metadata": {},
   "outputs": [],
   "source": [
    "zipcode_dict = df.groupby('zipcode')['neighbourhood'].apply(list).to_dict()\n",
    "\n",
    "list_of_dicts = []\n",
    "\n",
    "for zipcode, neighbourhoods in zipcode_dict.items():\n",
    "    neighbourhood_count = {}\n",
    "    for neighbourhood in set(neighbourhoods):  # Remove duplicates\n",
    "        neighbourhood_count[neighbourhood] = neighbourhoods.count(neighbourhood)  # Count occurrences\n",
    "    zipcode_dict[zipcode] = neighbourhood_count\n",
    "\n",
    "\n",
    "\n",
    "def most_popular_neighbourhood(missing_zipcode):\n",
    "    neighbourhood_dict = zipcode_dict[missing_zipcode]\n",
    "    max_key = max(neighbourhood_dict, key=neighbourhood_dict.get)  \n",
    "    return max_key\n",
    "\n",
    "\n",
    "# now for the missing values we fill in the most popular neighbourhood in that zipcode\n",
    "def fill_neighbourhood(row):\n",
    "    if pd.isna(row['neighbourhood']):\n",
    "        return most_popular_neighbourhood(row['zipcode'])  # Your function\n",
    "    return row['neighbourhood']\n",
    "\n",
    "df['neighbourhood'] = df.apply(fill_neighbourhood, axis=1)"
   ]
  },
  {
   "cell_type": "code",
   "execution_count": 8,
   "id": "32e83749-efb0-4814-bf23-b37742e59cd1",
   "metadata": {},
   "outputs": [],
   "source": [
    "df['zipcode'] = df['zipcode'].astype(str).str[:5]\n",
    "df.drop(index=df[df['zipcode'] == '1m'].index, inplace=True)\n",
    "\n",
    "df['zipcode'] = pd.to_numeric(df['zipcode'], errors='coerce')"
   ]
  },
  {
   "cell_type": "code",
   "execution_count": 9,
   "id": "49e4fc50-8145-4dc5-8ca4-feb6d666b9ca",
   "metadata": {},
   "outputs": [],
   "source": [
    "df.dropna(inplace = True)"
   ]
  },
  {
   "cell_type": "code",
   "execution_count": 10,
   "id": "8adec831-348f-4c16-b723-f7153d51c93d",
   "metadata": {},
   "outputs": [
    {
     "data": {
      "text/plain": [
       "log_price                 0\n",
       "property_type             0\n",
       "room_type                 0\n",
       "amenities                 0\n",
       "accommodates              0\n",
       "bathrooms                 0\n",
       "bed_type                  0\n",
       "cancellation_policy       0\n",
       "cleaning_fee              0\n",
       "city                      0\n",
       "host_has_profile_pic      0\n",
       "host_identity_verified    0\n",
       "host_response_rate        0\n",
       "host_since                0\n",
       "instant_bookable          0\n",
       "neighbourhood             0\n",
       "number_of_reviews         0\n",
       "review_scores_rating      0\n",
       "zipcode                   0\n",
       "bedrooms                  0\n",
       "beds                      0\n",
       "dtype: int64"
      ]
     },
     "execution_count": 10,
     "metadata": {},
     "output_type": "execute_result"
    }
   ],
   "source": [
    "df.isnull().sum()"
   ]
  },
  {
   "cell_type": "code",
   "execution_count": 11,
   "id": "c35bb596-f4db-4c6c-8f68-815b09ed9604",
   "metadata": {},
   "outputs": [
    {
     "name": "stderr",
     "output_type": "stream",
     "text": [
      "/var/folders/pt/m45tcz0n18zgj8vt3kqn08qh0000gn/T/ipykernel_36476/2249705540.py:4: UserWarning: Parsing dates in %d-%m-%Y format when dayfirst=False (the default) was specified. Pass `dayfirst=True` or specify a format to silence this warning.\n",
      "  df['host_since'] = pd.to_datetime(df['host_since'])\n"
     ]
    },
    {
     "data": {
      "text/plain": [
       "0        13.0\n",
       "1         8.0\n",
       "2         9.0\n",
       "3        10.0\n",
       "4        11.0\n",
       "         ... \n",
       "74106    12.0\n",
       "74107     9.0\n",
       "74108    14.0\n",
       "74109     8.0\n",
       "74110    13.0\n",
       "Name: host_experience, Length: 71586, dtype: float64"
      ]
     },
     "execution_count": 11,
     "metadata": {},
     "output_type": "execute_result"
    }
   ],
   "source": [
    "# creating a host tenure column after which we drop the host_since column \n",
    "import datetime\n",
    "today = datetime.datetime.today()\n",
    "df['host_since'] = pd.to_datetime(df['host_since'])\n",
    "df['host_experience'] = np.ceil((today - df['host_since']).dt.days/365.25)\n",
    "df['host_experience']"
   ]
  },
  {
   "cell_type": "code",
   "execution_count": 12,
   "id": "8775dec8-30f2-42ff-80f4-0267cb927b8f",
   "metadata": {},
   "outputs": [],
   "source": [
    "df['price'] = np.exp(df['log_price'])"
   ]
  },
  {
   "cell_type": "code",
   "execution_count": 13,
   "id": "420d4b89-470e-4fc3-81c0-bf14d0b816ee",
   "metadata": {},
   "outputs": [],
   "source": [
    "df['cleaning_fee'] = df['cleaning_fee'].astype('str').map({'True': 't', 'False': 'f'})\n",
    "for col in ['host_identity_verified', 'instant_bookable', 'cleaning_fee', 'host_has_profile_pic']:\n",
    "    df[col] = df[col].map({'t':1, 'f':0})\n",
    "df['cancellation_policy'] = df['cancellation_policy'].map({'flexible': 0, 'moderate': 1, 'strict': 2, 'super_strict': 3})"
   ]
  },
  {
   "cell_type": "code",
   "execution_count": 14,
   "id": "53145ff7-54f0-47da-8a99-4c2dfe4e5990",
   "metadata": {},
   "outputs": [],
   "source": [
    "t_f_mapping = {'t': 1, 'f': 0}\n",
    "cancellation_mapping = {'flexible': 0, 'moderate': 1, 'strict': 2, 'super_strict': 3}"
   ]
  },
  {
   "cell_type": "code",
   "execution_count": 15,
   "id": "9204216c-c074-42b7-8874-8ef67845669c",
   "metadata": {},
   "outputs": [],
   "source": [
    "number_of_amenities = []\n",
    "df['amenities'] = df['amenities'].astype('str')\n",
    "\n",
    "def amenities_count(amenities):\n",
    "    amenities_list = amenities.replace('\"', '').replace(\"{\", '').replace(\"}\",'').split(',')\n",
    "    return len(amenities_list)\n",
    "\n",
    "df['amenities'] = df['amenities'].apply(amenities_count)"
   ]
  },
  {
   "cell_type": "code",
   "execution_count": 16,
   "id": "ba7c596d-c3b9-49c2-9f73-24574d7c75da",
   "metadata": {},
   "outputs": [],
   "source": [
    "df.drop(['log_price', 'host_since'], axis = 1, inplace = True)"
   ]
  },
  {
   "cell_type": "code",
   "execution_count": 17,
   "id": "94abef25-118f-417d-86ce-a5a6b7a4a42b",
   "metadata": {},
   "outputs": [],
   "source": [
    "df['review_scores_rating'] = df['review_scores_rating'].astype('int64')"
   ]
  },
  {
   "cell_type": "code",
   "execution_count": 18,
   "id": "6330577b-f5e8-4649-84d5-6753f701b926",
   "metadata": {},
   "outputs": [],
   "source": [
    "# label encoding  room_type, bed_type, city\n",
    "encoders = {}\n",
    "for col in ['room_type', 'bed_type', 'city']:\n",
    "    le = LabelEncoder()\n",
    "    df[col] = le.fit_transform(df[col])\n",
    "    encoders[col] = dict(zip(le.classes_, le.transform(le.classes_)))"
   ]
  },
  {
   "cell_type": "code",
   "execution_count": 19,
   "id": "07d6a3c3-0695-4c53-b2f4-661cc89b1d8f",
   "metadata": {},
   "outputs": [
    {
     "name": "stdout",
     "output_type": "stream",
     "text": [
      "{'neighbourhood': OneHotEncoder(sparse_output=False), 'property_type': OneHotEncoder(sparse_output=False)}\n"
     ]
    }
   ],
   "source": [
    "# one-hot encoding for  property_type, neighbourhood\n",
    "\n",
    "one_hot_encoders = {}\n",
    "\n",
    "for col in ['neighbourhood', 'property_type']:\n",
    "    one_hot = OneHotEncoder(sparse_output = False)\n",
    "    transformed = one_hot.fit_transform(df[[col]])\n",
    "    \n",
    "    transformed_df = pd.DataFrame(transformed, \n",
    "                                  columns = [f\"{col}_{cat}\" for cat in one_hot.categories_[0]],\n",
    "                                 index = df.index)\n",
    "    df = pd.concat([df, transformed_df], axis = 1)\n",
    "    df.drop(columns = [col], inplace = True)\n",
    "    \n",
    "    one_hot_encoders[col] = one_hot\n",
    "    \n",
    "print(one_hot_encoders)"
   ]
  },
  {
   "cell_type": "code",
   "execution_count": 20,
   "id": "1e25ddb3-2a18-4678-8009-a0da2cfc67ee",
   "metadata": {},
   "outputs": [
    {
     "name": "stdout",
     "output_type": "stream",
     "text": [
      "<class 'pandas.core.frame.DataFrame'>\n",
      "Index: 71586 entries, 0 to 74110\n",
      "Columns: 670 entries, room_type to property_type_Yurt\n",
      "dtypes: float64(659), int64(11)\n",
      "memory usage: 366.5 MB\n"
     ]
    }
   ],
   "source": [
    "df.info()"
   ]
  },
  {
   "cell_type": "code",
   "execution_count": 21,
   "id": "ccef505a-8357-4ff1-b8ae-b53cb2cbfef8",
   "metadata": {},
   "outputs": [],
   "source": [
    "X = df.drop('price', axis=1).values\n",
    "y = df['price'].values\n",
    "imputer = SimpleImputer(strategy = 'median')\n",
    "X_train, X_test, y_train, y_test = train_test_split(X, y, test_size=0.2, random_state=42)\n",
    "X_train = imputer.fit_transform(X_train)\n",
    "X_test = imputer.fit_transform(X_test)"
   ]
  },
  {
   "cell_type": "code",
   "execution_count": 22,
   "id": "594d16a2-7f9e-493b-ad90-c757455f2394",
   "metadata": {},
   "outputs": [],
   "source": [
    "scaler = RobustScaler()\n",
    "X_train = scaler.fit_transform(X_train)\n",
    "X_test = scaler.transform(X_test)"
   ]
  },
  {
   "cell_type": "code",
   "execution_count": 23,
   "id": "7e5681fb-e8a6-4a15-9fe1-6cacabd35b6f",
   "metadata": {},
   "outputs": [
    {
     "name": "stderr",
     "output_type": "stream",
     "text": [
      "/opt/homebrew/anaconda3/envs/T7/lib/python3.12/site-packages/keras/src/layers/core/dense.py:87: UserWarning: Do not pass an `input_shape`/`input_dim` argument to a layer. When using Sequential models, prefer using an `Input(shape)` object as the first layer in the model instead.\n",
      "  super().__init__(activity_regularizer=activity_regularizer, **kwargs)\n"
     ]
    }
   ],
   "source": [
    "model = Sequential()\n",
    "model.add(Dense(128, activation='relu', input_shape=(X_train.shape[1],)))\n",
    "model.add(Dropout(0.2))\n",
    "model.add(Dense(64, activation='relu'))\n",
    "model.add(Dropout(0.2))\n",
    "model.add(Dense(32, activation='relu'))\n",
    "model.add(Dropout(0.2))\n",
    "model.add(Dense(16, activation='relu'))\n",
    "model.add(Dense(1))  # Output layer for regression"
   ]
  },
  {
   "cell_type": "code",
   "execution_count": 24,
   "id": "9436b1b7-5fef-4585-9c45-8ac23dd5b3c6",
   "metadata": {},
   "outputs": [],
   "source": [
    "model.compile(optimizer=Adam(learning_rate=0.0001), \n",
    "              loss='mse', \n",
    "              metrics=['mae'])"
   ]
  },
  {
   "cell_type": "code",
   "execution_count": 25,
   "id": "3b04e494-6a0d-4a28-af54-787d5019f146",
   "metadata": {},
   "outputs": [
    {
     "name": "stdout",
     "output_type": "stream",
     "text": [
      "Epoch 1/60\n",
      "\u001b[1m1432/1432\u001b[0m \u001b[32m━━━━━━━━━━━━━━━━━━━━\u001b[0m\u001b[37m\u001b[0m \u001b[1m2s\u001b[0m 818us/step - loss: 41618.0938 - mae: 130.0989 - val_loss: 19992.1973 - val_mae: 73.8987\n",
      "Epoch 2/60\n",
      "\u001b[1m1432/1432\u001b[0m \u001b[32m━━━━━━━━━━━━━━━━━━━━\u001b[0m\u001b[37m\u001b[0m \u001b[1m1s\u001b[0m 761us/step - loss: 18571.7734 - mae: 74.8828 - val_loss: 17518.9434 - val_mae: 67.3985\n",
      "Epoch 3/60\n",
      "\u001b[1m1432/1432\u001b[0m \u001b[32m━━━━━━━━━━━━━━━━━━━━\u001b[0m\u001b[37m\u001b[0m \u001b[1m1s\u001b[0m 757us/step - loss: 16184.6602 - mae: 68.3333 - val_loss: 16340.2324 - val_mae: 64.0854\n",
      "Epoch 4/60\n",
      "\u001b[1m1432/1432\u001b[0m \u001b[32m━━━━━━━━━━━━━━━━━━━━\u001b[0m\u001b[37m\u001b[0m \u001b[1m1s\u001b[0m 763us/step - loss: 16849.4277 - mae: 67.4212 - val_loss: 15626.7012 - val_mae: 62.9942\n",
      "Epoch 5/60\n",
      "\u001b[1m1432/1432\u001b[0m \u001b[32m━━━━━━━━━━━━━━━━━━━━\u001b[0m\u001b[37m\u001b[0m \u001b[1m1s\u001b[0m 763us/step - loss: 15251.7979 - mae: 64.7958 - val_loss: 15209.1162 - val_mae: 61.2911\n",
      "Epoch 6/60\n",
      "\u001b[1m1432/1432\u001b[0m \u001b[32m━━━━━━━━━━━━━━━━━━━━\u001b[0m\u001b[37m\u001b[0m \u001b[1m1s\u001b[0m 803us/step - loss: 15418.6875 - mae: 64.2523 - val_loss: 14981.9658 - val_mae: 59.2418\n",
      "Epoch 7/60\n",
      "\u001b[1m1432/1432\u001b[0m \u001b[32m━━━━━━━━━━━━━━━━━━━━\u001b[0m\u001b[37m\u001b[0m \u001b[1m1s\u001b[0m 812us/step - loss: 14666.0908 - mae: 62.8159 - val_loss: 14683.3730 - val_mae: 58.8380\n",
      "Epoch 8/60\n",
      "\u001b[1m1432/1432\u001b[0m \u001b[32m━━━━━━━━━━━━━━━━━━━━\u001b[0m\u001b[37m\u001b[0m \u001b[1m1s\u001b[0m 774us/step - loss: 13950.4648 - mae: 61.0030 - val_loss: 14403.5449 - val_mae: 58.7742\n",
      "Epoch 9/60\n",
      "\u001b[1m1432/1432\u001b[0m \u001b[32m━━━━━━━━━━━━━━━━━━━━\u001b[0m\u001b[37m\u001b[0m \u001b[1m1s\u001b[0m 776us/step - loss: 13565.1172 - mae: 60.4115 - val_loss: 14226.2852 - val_mae: 58.6317\n",
      "Epoch 10/60\n",
      "\u001b[1m1432/1432\u001b[0m \u001b[32m━━━━━━━━━━━━━━━━━━━━\u001b[0m\u001b[37m\u001b[0m \u001b[1m1s\u001b[0m 761us/step - loss: 13694.7510 - mae: 60.3680 - val_loss: 14056.8730 - val_mae: 57.7128\n",
      "Epoch 11/60\n",
      "\u001b[1m1432/1432\u001b[0m \u001b[32m━━━━━━━━━━━━━━━━━━━━\u001b[0m\u001b[37m\u001b[0m \u001b[1m1s\u001b[0m 771us/step - loss: 13450.3955 - mae: 59.6204 - val_loss: 13949.3877 - val_mae: 56.6573\n",
      "Epoch 12/60\n",
      "\u001b[1m1432/1432\u001b[0m \u001b[32m━━━━━━━━━━━━━━━━━━━━\u001b[0m\u001b[37m\u001b[0m \u001b[1m1s\u001b[0m 776us/step - loss: 13625.4941 - mae: 59.3344 - val_loss: 13776.5703 - val_mae: 57.0065\n",
      "Epoch 13/60\n",
      "\u001b[1m1432/1432\u001b[0m \u001b[32m━━━━━━━━━━━━━━━━━━━━\u001b[0m\u001b[37m\u001b[0m \u001b[1m1s\u001b[0m 764us/step - loss: 13811.7588 - mae: 59.6941 - val_loss: 13715.5215 - val_mae: 56.1218\n",
      "Epoch 14/60\n",
      "\u001b[1m1432/1432\u001b[0m \u001b[32m━━━━━━━━━━━━━━━━━━━━\u001b[0m\u001b[37m\u001b[0m \u001b[1m1s\u001b[0m 763us/step - loss: 12725.7012 - mae: 58.1001 - val_loss: 13615.2344 - val_mae: 56.3424\n",
      "Epoch 15/60\n",
      "\u001b[1m1432/1432\u001b[0m \u001b[32m━━━━━━━━━━━━━━━━━━━━\u001b[0m\u001b[37m\u001b[0m \u001b[1m1s\u001b[0m 771us/step - loss: 13165.8145 - mae: 58.4991 - val_loss: 13539.3857 - val_mae: 56.0540\n",
      "Epoch 16/60\n",
      "\u001b[1m1432/1432\u001b[0m \u001b[32m━━━━━━━━━━━━━━━━━━━━\u001b[0m\u001b[37m\u001b[0m \u001b[1m1s\u001b[0m 813us/step - loss: 12557.2705 - mae: 57.4326 - val_loss: 13575.3936 - val_mae: 55.3322\n",
      "Epoch 17/60\n",
      "\u001b[1m1432/1432\u001b[0m \u001b[32m━━━━━━━━━━━━━━━━━━━━\u001b[0m\u001b[37m\u001b[0m \u001b[1m1s\u001b[0m 770us/step - loss: 13200.8232 - mae: 58.1825 - val_loss: 13368.5879 - val_mae: 56.2339\n",
      "Epoch 18/60\n",
      "\u001b[1m1432/1432\u001b[0m \u001b[32m━━━━━━━━━━━━━━━━━━━━\u001b[0m\u001b[37m\u001b[0m \u001b[1m1s\u001b[0m 770us/step - loss: 12661.8242 - mae: 57.8042 - val_loss: 13394.3848 - val_mae: 56.5917\n",
      "Epoch 19/60\n",
      "\u001b[1m1432/1432\u001b[0m \u001b[32m━━━━━━━━━━━━━━━━━━━━\u001b[0m\u001b[37m\u001b[0m \u001b[1m1s\u001b[0m 764us/step - loss: 13107.8887 - mae: 58.1050 - val_loss: 13487.5547 - val_mae: 54.4303\n",
      "Epoch 20/60\n",
      "\u001b[1m1432/1432\u001b[0m \u001b[32m━━━━━━━━━━━━━━━━━━━━\u001b[0m\u001b[37m\u001b[0m \u001b[1m1s\u001b[0m 789us/step - loss: 12522.2939 - mae: 56.7509 - val_loss: 13235.1377 - val_mae: 55.1411\n",
      "Epoch 21/60\n",
      "\u001b[1m1432/1432\u001b[0m \u001b[32m━━━━━━━━━━━━━━━━━━━━\u001b[0m\u001b[37m\u001b[0m \u001b[1m1s\u001b[0m 779us/step - loss: 13100.0020 - mae: 57.2288 - val_loss: 13184.8154 - val_mae: 55.5786\n",
      "Epoch 22/60\n",
      "\u001b[1m1432/1432\u001b[0m \u001b[32m━━━━━━━━━━━━━━━━━━━━\u001b[0m\u001b[37m\u001b[0m \u001b[1m1s\u001b[0m 781us/step - loss: 12894.9414 - mae: 57.1867 - val_loss: 13219.1895 - val_mae: 54.9871\n",
      "Epoch 23/60\n",
      "\u001b[1m1432/1432\u001b[0m \u001b[32m━━━━━━━━━━━━━━━━━━━━\u001b[0m\u001b[37m\u001b[0m \u001b[1m1s\u001b[0m 779us/step - loss: 12797.1250 - mae: 56.4863 - val_loss: 13125.6729 - val_mae: 55.1418\n",
      "Epoch 24/60\n",
      "\u001b[1m1432/1432\u001b[0m \u001b[32m━━━━━━━━━━━━━━━━━━━━\u001b[0m\u001b[37m\u001b[0m \u001b[1m1s\u001b[0m 779us/step - loss: 12248.8994 - mae: 56.1878 - val_loss: 13093.0020 - val_mae: 55.3788\n",
      "Epoch 25/60\n",
      "\u001b[1m1432/1432\u001b[0m \u001b[32m━━━━━━━━━━━━━━━━━━━━\u001b[0m\u001b[37m\u001b[0m \u001b[1m1s\u001b[0m 790us/step - loss: 12461.4531 - mae: 56.4260 - val_loss: 13126.9092 - val_mae: 54.2000\n",
      "Epoch 26/60\n",
      "\u001b[1m1432/1432\u001b[0m \u001b[32m━━━━━━━━━━━━━━━━━━━━\u001b[0m\u001b[37m\u001b[0m \u001b[1m1s\u001b[0m 828us/step - loss: 11576.7012 - mae: 54.9875 - val_loss: 13070.1826 - val_mae: 54.0656\n",
      "Epoch 27/60\n",
      "\u001b[1m1432/1432\u001b[0m \u001b[32m━━━━━━━━━━━━━━━━━━━━\u001b[0m\u001b[37m\u001b[0m \u001b[1m1s\u001b[0m 763us/step - loss: 12167.5957 - mae: 55.7903 - val_loss: 13000.4502 - val_mae: 55.3846\n",
      "Epoch 28/60\n",
      "\u001b[1m1432/1432\u001b[0m \u001b[32m━━━━━━━━━━━━━━━━━━━━\u001b[0m\u001b[37m\u001b[0m \u001b[1m1s\u001b[0m 770us/step - loss: 11682.9014 - mae: 55.5138 - val_loss: 12996.9844 - val_mae: 54.1344\n",
      "Epoch 29/60\n",
      "\u001b[1m1432/1432\u001b[0m \u001b[32m━━━━━━━━━━━━━━━━━━━━\u001b[0m\u001b[37m\u001b[0m \u001b[1m1s\u001b[0m 777us/step - loss: 11656.7090 - mae: 55.1334 - val_loss: 12969.2617 - val_mae: 54.4800\n",
      "Epoch 30/60\n",
      "\u001b[1m1432/1432\u001b[0m \u001b[32m━━━━━━━━━━━━━━━━━━━━\u001b[0m\u001b[37m\u001b[0m \u001b[1m1s\u001b[0m 786us/step - loss: 12407.4844 - mae: 56.0057 - val_loss: 13050.1973 - val_mae: 53.5221\n",
      "Epoch 31/60\n",
      "\u001b[1m1432/1432\u001b[0m \u001b[32m━━━━━━━━━━━━━━━━━━━━\u001b[0m\u001b[37m\u001b[0m \u001b[1m1s\u001b[0m 773us/step - loss: 11569.7637 - mae: 54.5197 - val_loss: 12926.7734 - val_mae: 55.2922\n",
      "Epoch 32/60\n",
      "\u001b[1m1432/1432\u001b[0m \u001b[32m━━━━━━━━━━━━━━━━━━━━\u001b[0m\u001b[37m\u001b[0m \u001b[1m1s\u001b[0m 785us/step - loss: 11673.2676 - mae: 54.7954 - val_loss: 12897.6064 - val_mae: 54.4550\n",
      "Epoch 33/60\n",
      "\u001b[1m1432/1432\u001b[0m \u001b[32m━━━━━━━━━━━━━━━━━━━━\u001b[0m\u001b[37m\u001b[0m \u001b[1m1s\u001b[0m 795us/step - loss: 12256.8604 - mae: 55.4883 - val_loss: 12940.9131 - val_mae: 53.3535\n",
      "Epoch 34/60\n",
      "\u001b[1m1432/1432\u001b[0m \u001b[32m━━━━━━━━━━━━━━━━━━━━\u001b[0m\u001b[37m\u001b[0m \u001b[1m1s\u001b[0m 826us/step - loss: 11925.6973 - mae: 55.0560 - val_loss: 12924.6250 - val_mae: 53.6478\n",
      "Epoch 35/60\n",
      "\u001b[1m1432/1432\u001b[0m \u001b[32m━━━━━━━━━━━━━━━━━━━━\u001b[0m\u001b[37m\u001b[0m \u001b[1m1s\u001b[0m 818us/step - loss: 11113.8574 - mae: 53.7336 - val_loss: 12900.3252 - val_mae: 55.8215\n",
      "Epoch 36/60\n",
      "\u001b[1m1432/1432\u001b[0m \u001b[32m━━━━━━━━━━━━━━━━━━━━\u001b[0m\u001b[37m\u001b[0m \u001b[1m1s\u001b[0m 784us/step - loss: 11440.8281 - mae: 54.8528 - val_loss: 12842.3369 - val_mae: 53.6621\n",
      "Epoch 37/60\n",
      "\u001b[1m1432/1432\u001b[0m \u001b[32m━━━━━━━━━━━━━━━━━━━━\u001b[0m\u001b[37m\u001b[0m \u001b[1m1s\u001b[0m 773us/step - loss: 11804.3633 - mae: 54.8399 - val_loss: 12839.8242 - val_mae: 53.6403\n",
      "Epoch 38/60\n",
      "\u001b[1m1432/1432\u001b[0m \u001b[32m━━━━━━━━━━━━━━━━━━━━\u001b[0m\u001b[37m\u001b[0m \u001b[1m1s\u001b[0m 798us/step - loss: 11173.0732 - mae: 53.4488 - val_loss: 12867.4004 - val_mae: 53.6456\n",
      "Epoch 39/60\n",
      "\u001b[1m1432/1432\u001b[0m \u001b[32m━━━━━━━━━━━━━━━━━━━━\u001b[0m\u001b[37m\u001b[0m \u001b[1m1s\u001b[0m 792us/step - loss: 10665.4434 - mae: 53.2888 - val_loss: 12842.9541 - val_mae: 53.3318\n",
      "Epoch 40/60\n",
      "\u001b[1m1432/1432\u001b[0m \u001b[32m━━━━━━━━━━━━━━━━━━━━\u001b[0m\u001b[37m\u001b[0m \u001b[1m1s\u001b[0m 793us/step - loss: 11602.2002 - mae: 54.2352 - val_loss: 12775.2607 - val_mae: 53.4922\n",
      "Epoch 41/60\n",
      "\u001b[1m1432/1432\u001b[0m \u001b[32m━━━━━━━━━━━━━━━━━━━━\u001b[0m\u001b[37m\u001b[0m \u001b[1m1s\u001b[0m 810us/step - loss: 11486.5859 - mae: 53.8873 - val_loss: 12809.6816 - val_mae: 53.0770\n",
      "Epoch 42/60\n",
      "\u001b[1m1432/1432\u001b[0m \u001b[32m━━━━━━━━━━━━━━━━━━━━\u001b[0m\u001b[37m\u001b[0m \u001b[1m1s\u001b[0m 832us/step - loss: 11028.4121 - mae: 53.2799 - val_loss: 12819.0127 - val_mae: 53.3518\n",
      "Epoch 43/60\n",
      "\u001b[1m1432/1432\u001b[0m \u001b[32m━━━━━━━━━━━━━━━━━━━━\u001b[0m\u001b[37m\u001b[0m \u001b[1m1s\u001b[0m 783us/step - loss: 11434.9355 - mae: 53.5606 - val_loss: 12762.6963 - val_mae: 53.4737\n",
      "Epoch 44/60\n",
      "\u001b[1m1432/1432\u001b[0m \u001b[32m━━━━━━━━━━━━━━━━━━━━\u001b[0m\u001b[37m\u001b[0m \u001b[1m1s\u001b[0m 789us/step - loss: 11121.6709 - mae: 53.5407 - val_loss: 12781.6572 - val_mae: 53.8128\n",
      "Epoch 45/60\n",
      "\u001b[1m1432/1432\u001b[0m \u001b[32m━━━━━━━━━━━━━━━━━━━━\u001b[0m\u001b[37m\u001b[0m \u001b[1m1s\u001b[0m 796us/step - loss: 10824.9756 - mae: 53.3670 - val_loss: 12763.4766 - val_mae: 53.3768\n",
      "Epoch 46/60\n",
      "\u001b[1m1432/1432\u001b[0m \u001b[32m━━━━━━━━━━━━━━━━━━━━\u001b[0m\u001b[37m\u001b[0m \u001b[1m1s\u001b[0m 779us/step - loss: 11175.8506 - mae: 53.3600 - val_loss: 12791.2900 - val_mae: 54.5769\n",
      "Epoch 47/60\n",
      "\u001b[1m1432/1432\u001b[0m \u001b[32m━━━━━━━━━━━━━━━━━━━━\u001b[0m\u001b[37m\u001b[0m \u001b[1m1s\u001b[0m 797us/step - loss: 10653.5557 - mae: 52.3651 - val_loss: 12753.7432 - val_mae: 54.0600\n",
      "Epoch 48/60\n",
      "\u001b[1m1432/1432\u001b[0m \u001b[32m━━━━━━━━━━━━━━━━━━━━\u001b[0m\u001b[37m\u001b[0m \u001b[1m1s\u001b[0m 867us/step - loss: 11289.8047 - mae: 53.3764 - val_loss: 12738.2920 - val_mae: 53.8377\n",
      "Epoch 49/60\n",
      "\u001b[1m1432/1432\u001b[0m \u001b[32m━━━━━━━━━━━━━━━━━━━━\u001b[0m\u001b[37m\u001b[0m \u001b[1m1s\u001b[0m 791us/step - loss: 10897.4326 - mae: 53.0110 - val_loss: 12730.7852 - val_mae: 53.7584\n",
      "Epoch 50/60\n",
      "\u001b[1m1432/1432\u001b[0m \u001b[32m━━━━━━━━━━━━━━━━━━━━\u001b[0m\u001b[37m\u001b[0m \u001b[1m1s\u001b[0m 777us/step - loss: 10719.8311 - mae: 52.2638 - val_loss: 12762.2793 - val_mae: 53.4903\n",
      "Epoch 51/60\n",
      "\u001b[1m1432/1432\u001b[0m \u001b[32m━━━━━━━━━━━━━━━━━━━━\u001b[0m\u001b[37m\u001b[0m \u001b[1m1s\u001b[0m 789us/step - loss: 10611.9893 - mae: 52.0418 - val_loss: 12730.6064 - val_mae: 53.1326\n",
      "Epoch 52/60\n",
      "\u001b[1m1432/1432\u001b[0m \u001b[32m━━━━━━━━━━━━━━━━━━━━\u001b[0m\u001b[37m\u001b[0m \u001b[1m1s\u001b[0m 795us/step - loss: 10869.4062 - mae: 52.6446 - val_loss: 12723.2090 - val_mae: 53.3631\n",
      "Epoch 53/60\n",
      "\u001b[1m1432/1432\u001b[0m \u001b[32m━━━━━━━━━━━━━━━━━━━━\u001b[0m\u001b[37m\u001b[0m \u001b[1m1s\u001b[0m 857us/step - loss: 10092.9980 - mae: 51.5718 - val_loss: 12830.0752 - val_mae: 54.5734\n",
      "Epoch 54/60\n",
      "\u001b[1m1432/1432\u001b[0m \u001b[32m━━━━━━━━━━━━━━━━━━━━\u001b[0m\u001b[37m\u001b[0m \u001b[1m1s\u001b[0m 782us/step - loss: 10492.7354 - mae: 52.6355 - val_loss: 12754.7773 - val_mae: 54.2972\n",
      "Epoch 55/60\n",
      "\u001b[1m1432/1432\u001b[0m \u001b[32m━━━━━━━━━━━━━━━━━━━━\u001b[0m\u001b[37m\u001b[0m \u001b[1m1s\u001b[0m 781us/step - loss: 10740.6543 - mae: 52.3222 - val_loss: 12735.9277 - val_mae: 53.1930\n",
      "Epoch 56/60\n",
      "\u001b[1m1432/1432\u001b[0m \u001b[32m━━━━━━━━━━━━━━━━━━━━\u001b[0m\u001b[37m\u001b[0m \u001b[1m1s\u001b[0m 795us/step - loss: 10399.2139 - mae: 51.4329 - val_loss: 12705.0557 - val_mae: 53.2517\n",
      "Epoch 57/60\n",
      "\u001b[1m1432/1432\u001b[0m \u001b[32m━━━━━━━━━━━━━━━━━━━━\u001b[0m\u001b[37m\u001b[0m \u001b[1m1s\u001b[0m 807us/step - loss: 10434.4434 - mae: 51.7680 - val_loss: 12798.3584 - val_mae: 54.1530\n",
      "Epoch 58/60\n",
      "\u001b[1m1432/1432\u001b[0m \u001b[32m━━━━━━━━━━━━━━━━━━━━\u001b[0m\u001b[37m\u001b[0m \u001b[1m1s\u001b[0m 860us/step - loss: 10406.3057 - mae: 51.7814 - val_loss: 12772.6152 - val_mae: 53.1978\n",
      "Epoch 59/60\n",
      "\u001b[1m1432/1432\u001b[0m \u001b[32m━━━━━━━━━━━━━━━━━━━━\u001b[0m\u001b[37m\u001b[0m \u001b[1m1s\u001b[0m 779us/step - loss: 10705.9512 - mae: 52.3758 - val_loss: 12709.6992 - val_mae: 53.3932\n",
      "Epoch 60/60\n",
      "\u001b[1m1432/1432\u001b[0m \u001b[32m━━━━━━━━━━━━━━━━━━━━\u001b[0m\u001b[37m\u001b[0m \u001b[1m1s\u001b[0m 781us/step - loss: 10487.2773 - mae: 51.6885 - val_loss: 12791.7432 - val_mae: 52.6815\n"
     ]
    }
   ],
   "source": [
    "history = model.fit(X_train, y_train, \n",
    "                    epochs=60, \n",
    "                    batch_size=32, \n",
    "                    validation_split=0.2, \n",
    "                    verbose=1)"
   ]
  },
  {
   "cell_type": "code",
   "execution_count": 26,
   "id": "ea43d6b9-8e8c-4b0a-ae73-a0ff408caa6a",
   "metadata": {},
   "outputs": [
    {
     "name": "stdout",
     "output_type": "stream",
     "text": [
      "\u001b[1m448/448\u001b[0m \u001b[32m━━━━━━━━━━━━━━━━━━━━\u001b[0m\u001b[37m\u001b[0m \u001b[1m0s\u001b[0m 420us/step\n"
     ]
    }
   ],
   "source": [
    "y_pred = model.predict(X_test)"
   ]
  },
  {
   "cell_type": "code",
   "execution_count": 27,
   "id": "e3da380b-955c-45fe-bde1-062b93f6e573",
   "metadata": {},
   "outputs": [
    {
     "name": "stdout",
     "output_type": "stream",
     "text": [
      "0.5613401157649305\n"
     ]
    }
   ],
   "source": [
    "print(r2_score(y_test, y_pred))"
   ]
  },
  {
   "cell_type": "code",
   "execution_count": null,
   "id": "caab36f1-bd3f-4bba-ad56-a4679ac868d7",
   "metadata": {},
   "outputs": [],
   "source": []
  }
 ],
 "metadata": {
  "kernelspec": {
   "display_name": "Python 3 (ipykernel)",
   "language": "python",
   "name": "python3"
  },
  "language_info": {
   "codemirror_mode": {
    "name": "ipython",
    "version": 3
   },
   "file_extension": ".py",
   "mimetype": "text/x-python",
   "name": "python",
   "nbconvert_exporter": "python",
   "pygments_lexer": "ipython3",
   "version": "3.12.7"
  }
 },
 "nbformat": 4,
 "nbformat_minor": 5
}
